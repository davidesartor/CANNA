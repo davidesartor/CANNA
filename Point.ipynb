{
 "cells": [
  {
   "cell_type": "code",
   "execution_count": 1,
   "metadata": {},
   "outputs": [
    {
     "name": "stdout",
     "output_type": "stream",
     "text": [
      "env: CUDA_VISIBLE_DEVICES=0\n",
      "env: XLA_PYTHON_CLIENT_PREALLOCATE=false\n",
      "env: JAX_ENABLE_X64=True\n"
     ]
    }
   ],
   "source": [
    "%env CUDA_VISIBLE_DEVICES=0\n",
    "%env XLA_PYTHON_CLIENT_PREALLOCATE=false\n",
    "%env JAX_ENABLE_X64=True\n",
    "\n",
    "from datasets import PointDataset\n",
    "from models import MLPCNF"
   ]
  },
  {
   "cell_type": "code",
   "execution_count": null,
   "metadata": {},
   "outputs": [
    {
     "name": "stderr",
     "output_type": "stream",
     "text": [
      "  0%|          | 0/100 [00:00<?, ?it/s]"
     ]
    }
   ],
   "source": [
    "dataset = PointDataset(dim=3)\n",
    "model = MLPCNF(dim=128, depth=4)\n",
    "params, losses = model.fit(dataset, batch_size=1024, epochs=100, learning_rate=3e-4)"
   ]
  },
  {
   "cell_type": "code",
   "execution_count": null,
   "metadata": {},
   "outputs": [
    {
     "data": {
      "text/plain": [
       "[<matplotlib.lines.Line2D at 0x73b878765880>]"
      ]
     },
     "execution_count": 3,
     "metadata": {},
     "output_type": "execute_result"
    },
    {
     "data": {
      "image/png": "[encoded data removed]",
      "text/plain": [
       "<Figure size 640x480 with 1 Axes>"
      ]
     },
     "metadata": {},
     "output_type": "display_data"
    }
   ],
   "source": [
    "import matplotlib.pyplot as plt\n",
    "plt.plot(losses.mean(axis=-1))\n",
    "plt.fill_between(range(len(losses)), losses.min(axis=-1), losses.max(axis=-1), alpha=0.5)"
   ]
  },
  {
   "cell_type": "code",
   "execution_count": null,
   "metadata": {},
   "outputs": [
    {
     "data": {
      "application/vnd.jupyter.widget-view+json": {
       "model_id": "97a85f8faec74d45bad2cd8f416a7fb2",
       "version_major": 2,
       "version_minor": 0
      },
      "text/plain": [
       "  0%|          | 0/10 [00:00<?, ?it/s]"
      ]
     },
     "metadata": {},
     "output_type": "display_data"
    },
    {
     "ename": "IndexError",
     "evalue": "tuple index out of range",
     "output_type": "error",
     "traceback": [
      "\u001b[0;31m---------------------------------------------------------------------------\u001b[0m",
      "\u001b[0;31mIndexError\u001b[0m                                Traceback (most recent call last)",
      "Cell \u001b[0;32mIn[4], line 2\u001b[0m\n\u001b[1;32m      1\u001b[0m \u001b[38;5;28;01mfrom\u001b[39;00m \u001b[38;5;21;01mutils\u001b[39;00m \u001b[38;5;28;01mimport\u001b[39;00m corner_plot\n\u001b[0;32m----> 2\u001b[0m corner_plot(dataset, model, examples\u001b[38;5;241m=\u001b[39m\u001b[38;5;241m10\u001b[39m, samples\u001b[38;5;241m=\u001b[39m\u001b[38;5;241m32\u001b[39m\u001b[38;5;241m*\u001b[39m\u001b[38;5;241m1024\u001b[39m, verbose\u001b[38;5;241m=\u001b[39m\u001b[38;5;28;01mTrue\u001b[39;00m)\n",
      "File \u001b[0;32m~/CANNA/utils.py:35\u001b[0m, in \u001b[0;36mcorner_plot\u001b[0;34m(dataset, model, verbose, samples, examples, ode_steps, plot_prior)\u001b[0m\n\u001b[1;32m     32\u001b[0m truths \u001b[38;5;241m=\u001b[39m np\u001b[38;5;241m.\u001b[39marray(jnp\u001b[38;5;241m.\u001b[39mconcat(x1, axis\u001b[38;5;241m=\u001b[39m\u001b[38;5;241m-\u001b[39m\u001b[38;5;241m1\u001b[39m))\n\u001b[1;32m     34\u001b[0m \u001b[38;5;66;03m# sample using CNF\u001b[39;00m\n\u001b[0;32m---> 35\u001b[0m x_cnf \u001b[38;5;241m=\u001b[39m np\u001b[38;5;241m.\u001b[39marray(model\u001b[38;5;241m.\u001b[39mpush(x0_triv, y, n_steps\u001b[38;5;241m=\u001b[39mode_steps))\n\u001b[1;32m     37\u001b[0m \u001b[38;5;66;03m# # sample using MCMC\u001b[39;00m\n\u001b[1;32m     38\u001b[0m \u001b[38;5;66;03m# x_mcmc = emcee_sample(\u001b[39;00m\n\u001b[1;32m     39\u001b[0m \u001b[38;5;66;03m#     log_prob=lambda x: dataset.log_posterior(x, y),\u001b[39;00m\n\u001b[0;32m   (...)\u001b[0m\n\u001b[1;32m     46\u001b[0m \n\u001b[1;32m     47\u001b[0m \u001b[38;5;66;03m# plot corner\u001b[39;00m\n\u001b[1;32m     48\u001b[0m corner_kwargs: \u001b[38;5;28mdict\u001b[39m \u001b[38;5;241m=\u001b[39m \u001b[38;5;28mdict\u001b[39m(\n\u001b[1;32m     49\u001b[0m     labels\u001b[38;5;241m=\u001b[39mdataset\u001b[38;5;241m.\u001b[39mparam_names, show_titles\u001b[38;5;241m=\u001b[39m\u001b[38;5;28;01mTrue\u001b[39;00m, truths\u001b[38;5;241m=\u001b[39mtruths\n\u001b[1;32m     50\u001b[0m )\n",
      "File \u001b[0;32m~/.conda/envs/torch_env/lib/python3.12/site-packages/flax/linen/module.py:699\u001b[0m, in \u001b[0;36mwrap_method_once.<locals>.wrapped_module_method\u001b[0;34m(*args, **kwargs)\u001b[0m\n\u001b[1;32m    697\u001b[0m \u001b[38;5;28;01mif\u001b[39;00m args \u001b[38;5;129;01mand\u001b[39;00m \u001b[38;5;28misinstance\u001b[39m(args[\u001b[38;5;241m0\u001b[39m], Module):\n\u001b[1;32m    698\u001b[0m   \u001b[38;5;28mself\u001b[39m, args \u001b[38;5;241m=\u001b[39m args[\u001b[38;5;241m0\u001b[39m], args[\u001b[38;5;241m1\u001b[39m:]\n\u001b[0;32m--> 699\u001b[0m   \u001b[38;5;28;01mreturn\u001b[39;00m \u001b[38;5;28mself\u001b[39m\u001b[38;5;241m.\u001b[39m_call_wrapped_method(fun, args, kwargs)\n\u001b[1;32m    700\u001b[0m \u001b[38;5;28;01melse\u001b[39;00m:\n\u001b[1;32m    701\u001b[0m   \u001b[38;5;28;01mreturn\u001b[39;00m fun(\u001b[38;5;241m*\u001b[39margs, \u001b[38;5;241m*\u001b[39m\u001b[38;5;241m*\u001b[39mkwargs)\n",
      "File \u001b[0;32m~/.conda/envs/torch_env/lib/python3.12/site-packages/flax/linen/module.py:1216\u001b[0m, in \u001b[0;36mModule._call_wrapped_method\u001b[0;34m(self, fun, args, kwargs)\u001b[0m\n\u001b[1;32m   1214\u001b[0m \u001b[38;5;28;01mif\u001b[39;00m _use_named_call:\n\u001b[1;32m   1215\u001b[0m   \u001b[38;5;28;01mwith\u001b[39;00m jax\u001b[38;5;241m.\u001b[39mnamed_scope(_derive_profiling_name(\u001b[38;5;28mself\u001b[39m, fun)):\n\u001b[0;32m-> 1216\u001b[0m     y \u001b[38;5;241m=\u001b[39m run_fun(\u001b[38;5;28mself\u001b[39m, \u001b[38;5;241m*\u001b[39margs, \u001b[38;5;241m*\u001b[39m\u001b[38;5;241m*\u001b[39mkwargs)\n\u001b[1;32m   1217\u001b[0m \u001b[38;5;28;01melse\u001b[39;00m:\n\u001b[1;32m   1218\u001b[0m   y \u001b[38;5;241m=\u001b[39m run_fun(\u001b[38;5;28mself\u001b[39m, \u001b[38;5;241m*\u001b[39margs, \u001b[38;5;241m*\u001b[39m\u001b[38;5;241m*\u001b[39mkwargs)\n",
      "File \u001b[0;32m~/CANNA/models.py:41\u001b[0m, in \u001b[0;36mMLPCNF.push\u001b[0;34m(self, x0, y, n_steps)\u001b[0m\n\u001b[1;32m     39\u001b[0m dt \u001b[38;5;241m=\u001b[39m \u001b[38;5;241m1\u001b[39m \u001b[38;5;241m/\u001b[39m n_steps\n\u001b[1;32m     40\u001b[0m ts \u001b[38;5;241m=\u001b[39m dt \u001b[38;5;241m*\u001b[39m jnp\u001b[38;5;241m.\u001b[39marange(n_steps)\n\u001b[0;32m---> 41\u001b[0m x1, xt \u001b[38;5;241m=\u001b[39m nn\u001b[38;5;241m.\u001b[39mscan(runje_kutta_step, variable_broadcast\u001b[38;5;241m=\u001b[39m\u001b[38;5;124m\"\u001b[39m\u001b[38;5;124mparams\u001b[39m\u001b[38;5;124m\"\u001b[39m)(\u001b[38;5;28mself\u001b[39m, x0, ts)\n\u001b[1;32m     42\u001b[0m \u001b[38;5;28;01mreturn\u001b[39;00m x1, xt\n",
      "File \u001b[0;32m~/.conda/envs/torch_env/lib/python3.12/site-packages/flax/linen/transforms.py:433\u001b[0m, in \u001b[0;36mdecorator_lift_transform.<locals>.wrapped_fn\u001b[0;34m(self, *args, **kwargs)\u001b[0m\n\u001b[1;32m    428\u001b[0m     \u001b[38;5;28;01mraise\u001b[39;00m \u001b[38;5;167;01mNotImplementedError\u001b[39;00m(\n\u001b[1;32m    429\u001b[0m       \u001b[38;5;124m'\u001b[39m\u001b[38;5;124mThis transform does not yet support\u001b[39m\u001b[38;5;124m'\u001b[39m\n\u001b[1;32m    430\u001b[0m       \u001b[38;5;124m'\u001b[39m\u001b[38;5;124m Modules that include other Modules passed as arguments.\u001b[39m\u001b[38;5;124m'\u001b[39m\n\u001b[1;32m    431\u001b[0m     )\n\u001b[1;32m    432\u001b[0m   module_scopes \u001b[38;5;241m=\u001b[39m module_scopes[\u001b[38;5;241m0\u001b[39m]\n\u001b[0;32m--> 433\u001b[0m \u001b[38;5;28;01mreturn\u001b[39;00m trafo_fn(module_scopes, \u001b[38;5;241m*\u001b[39margs, \u001b[38;5;241m*\u001b[39m\u001b[38;5;241m*\u001b[39mkwargs)\n",
      "File \u001b[0;32m~/.conda/envs/torch_env/lib/python3.12/site-packages/flax/core/lift.py:328\u001b[0m, in \u001b[0;36mpack.<locals>.wrapper\u001b[0;34m(scope_tree, *args, **kwargs)\u001b[0m\n\u001b[1;32m    319\u001b[0m   y, out_variable_groups_xs_t \u001b[38;5;241m=\u001b[39m fn(\n\u001b[1;32m    320\u001b[0m       scope_fn,\n\u001b[1;32m    321\u001b[0m       repack_fn,\n\u001b[0;32m   (...)\u001b[0m\n\u001b[1;32m    325\u001b[0m       \u001b[38;5;241m*\u001b[39m\u001b[38;5;241m*\u001b[39mkwargs,\n\u001b[1;32m    326\u001b[0m   )\n\u001b[1;32m    327\u001b[0m \u001b[38;5;28;01melse\u001b[39;00m:\n\u001b[0;32m--> 328\u001b[0m   y, out_variable_groups_xs_t \u001b[38;5;241m=\u001b[39m fn(\n\u001b[1;32m    329\u001b[0m       scope_fn, repack_fn, variable_groups_xs_t, rng_groups_xs_t, \u001b[38;5;241m*\u001b[39margs\n\u001b[1;32m    330\u001b[0m   )\n\u001b[1;32m    331\u001b[0m publish_results_fn(out_variable_groups_xs_t)\n\u001b[1;32m    332\u001b[0m \u001b[38;5;28;01mreturn\u001b[39;00m y\n",
      "File \u001b[0;32m~/.conda/envs/torch_env/lib/python3.12/site-packages/flax/core/lift.py:1026\u001b[0m, in \u001b[0;36mscan.<locals>.inner\u001b[0;34m(scope_fn, repack_fn, variable_groups, rng_groups, init, *args)\u001b[0m\n\u001b[1;32m   1023\u001b[0m         out_group[col] \u001b[38;5;241m=\u001b[39m in_group[col]\n\u001b[1;32m   1024\u001b[0m   \u001b[38;5;28;01mreturn\u001b[39;00m broadcast_vars_out, (carry_vars, c), (y, scan_vars)\n\u001b[0;32m-> 1026\u001b[0m broadcast_vars \u001b[38;5;241m=\u001b[39m variable_groups[\u001b[38;5;241m0\u001b[39m]\n\u001b[1;32m   1027\u001b[0m carry_vars \u001b[38;5;241m=\u001b[39m variable_groups[\u001b[38;5;241m1\u001b[39m]\n\u001b[1;32m   1028\u001b[0m scan_vars \u001b[38;5;241m=\u001b[39m variable_groups[\u001b[38;5;241m2\u001b[39m:]\n",
      "\u001b[0;31mIndexError\u001b[0m: tuple index out of range"
     ]
    }
   ],
   "source": [
    "from utils import corner_plot\n",
    "corner_plot(dataset, model, examples=10, samples=32*1024, verbose=True)"
   ]
  }
 ],
 "metadata": {
  "kernelspec": {
   "display_name": "Python 3",
   "language": "python",
   "name": "python3"
  },
  "language_info": {
   "codemirror_mode": {
    "name": "ipython",
    "version": 3
   },
   "file_extension": ".py",
   "mimetype": "text/x-python",
   "name": "python",
   "nbconvert_exporter": "python",
   "pygments_lexer": "ipython3",
   "version": "3.12.2"
  }
 },
 "nbformat": 4,
 "nbformat_minor": 2
}
