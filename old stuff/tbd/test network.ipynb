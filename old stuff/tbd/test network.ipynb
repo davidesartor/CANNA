{
 "cells": [
  {
   "cell_type": "code",
   "execution_count": 1,
   "id": "060f394d",
   "metadata": {},
   "outputs": [
    {
     "name": "stdout",
     "output_type": "stream",
     "text": [
      "data.shape=torch.Size([64, 1, 16, 418]) data.dtype=torch.float32\n",
      "labels.shape=torch.Size([64, 1, 5]) labels.dtype=torch.float32\n"
     ]
    }
   ],
   "source": [
    "from typing import OrderedDict\n",
    "from tqdm.notebook import tqdm\n",
    "import torch\n",
    "import datasets\n",
    "import networks\n",
    "\n",
    "\n",
    "dataset = datasets.LIGOLChirping(\n",
    "    episode_duration_s=1.0,\n",
    "    n_sources=1,\n",
    "    sample_rate_Hz=10000,\n",
    "    episodes_per_epoch=128,\n",
    ")\n",
    "loader = torch.utils.data.DataLoader(\n",
    "    dataset,\n",
    "    batch_size=64,\n",
    "    num_workers=8,\n",
    "    pin_memory=True,\n",
    "    prefetch_factor=8,\n",
    ")\n",
    "\n",
    "for data, labels in loader:\n",
    "    print(f\"{data.shape=} {data.dtype=}\\n{labels.shape=} {labels.dtype=}\")\n",
    "    break"
   ]
  },
  {
   "cell_type": "code",
   "execution_count": 2,
   "metadata": {},
   "outputs": [
    {
     "name": "stdout",
     "output_type": "stream",
     "text": [
      "torch.Size([64, 1, 16, 418]) torch.Size([64, 5])\n",
      "ToyModel(\n",
      "  (conv): ConvNet2d(\n",
      "    (0): Conv2d(1, 16, kernel_size=(3, 7), stride=(1, 1), padding=same)\n",
      "    (1): BatchNorm2d(16, eps=1e-05, momentum=0.1, affine=True, track_running_stats=True)\n",
      "    (2): LeakyReLU(negative_slope=0.01)\n",
      "    (3): Conv2d(16, 16, kernel_size=(3, 7), stride=(2, 4), padding=(1, 3))\n",
      "    (4): BatchNorm2d(16, eps=1e-05, momentum=0.1, affine=True, track_running_stats=True)\n",
      "    (5): LeakyReLU(negative_slope=0.01)\n",
      "    (6): Conv2d(16, 16, kernel_size=(3, 7), stride=(1, 1), padding=same)\n",
      "    (7): BatchNorm2d(16, eps=1e-05, momentum=0.1, affine=True, track_running_stats=True)\n",
      "    (8): LeakyReLU(negative_slope=0.01)\n",
      "    (9): Conv2d(16, 16, kernel_size=(3, 7), stride=(2, 4), padding=(1, 3))\n",
      "    (10): BatchNorm2d(16, eps=1e-05, momentum=0.1, affine=True, track_running_stats=True)\n",
      "    (11): LeakyReLU(negative_slope=0.01)\n",
      "    (12): Conv2d(16, 16, kernel_size=(3, 7), stride=(1, 1), padding=same)\n",
      "    (13): BatchNorm2d(16, eps=1e-05, momentum=0.1, affine=True, track_running_stats=True)\n",
      "    (14): LeakyReLU(negative_slope=0.01)\n",
      "    (15): Conv2d(16, 16, kernel_size=(3, 7), stride=(2, 4), padding=(1, 3))\n",
      "    (16): BatchNorm2d(16, eps=1e-05, momentum=0.1, affine=True, track_running_stats=True)\n",
      "    (17): LeakyReLU(negative_slope=0.01)\n",
      "    (18): Conv2d(16, 16, kernel_size=(3, 7), stride=(1, 1), padding=same)\n",
      "    (19): BatchNorm2d(16, eps=1e-05, momentum=0.1, affine=True, track_running_stats=True)\n",
      "    (20): LeakyReLU(negative_slope=0.01)\n",
      "    (21): Conv2d(16, 5, kernel_size=(3, 7), stride=(2, 4), padding=(1, 3))\n",
      "    (22): BatchNorm2d(5, eps=1e-05, momentum=0.1, affine=True, track_running_stats=True)\n",
      "  )\n",
      "  (flatten): Flatten(start_dim=1, end_dim=-1)\n",
      "  (linear): Linear(in_features=10, out_features=5, bias=True)\n",
      "  (normalize): BatchNorm1d(5, eps=1e-05, momentum=0.1, affine=True, track_running_stats=True)\n",
      ")\n"
     ]
    },
    {
     "name": "stderr",
     "output_type": "stream",
     "text": [
      "c:\\ProgramData\\anaconda3\\Lib\\site-packages\\torch\\nn\\modules\\lazy.py:180: UserWarning: Lazy modules are a new feature under heavy development so changes to the API or functionality can happen at any moment.\n",
      "  warnings.warn('Lazy modules are a new feature under heavy development '\n"
     ]
    }
   ],
   "source": [
    "n_params, n_sources = labels.shape[1:]\n",
    "\n",
    "\n",
    "class ToyModel(torch.nn.Module):\n",
    "    def __init__(self, n_params, n_sources):\n",
    "        super().__init__()\n",
    "        self.conv = networks.ConvNet2d(\n",
    "            in_channels=1,\n",
    "            hidden_channels=[16, 16, 16, 16, 16, 16, 16],\n",
    "            out_channels=n_params * n_sources,\n",
    "            kernel_size=(3, 7),\n",
    "        )\n",
    "        self.flatten = torch.nn.Flatten()\n",
    "        self.linear = torch.nn.LazyLinear(n_params * n_sources)\n",
    "        self.normalize = torch.nn.BatchNorm1d(n_params * n_sources)\n",
    "\n",
    "    def forward(self, data, labels):\n",
    "        output = self.linear(self.flatten(self.conv(data)))\n",
    "        target = self.normalize(self.flatten(labels))\n",
    "        return output, target\n",
    "\n",
    "\n",
    "model = ToyModel(n_params=labels.shape[1], n_sources=labels.shape[2])\n",
    "print(data.shape, model(data, labels)[0].shape)\n",
    "print(model)"
   ]
  },
  {
   "cell_type": "code",
   "execution_count": 4,
   "metadata": {},
   "outputs": [
    {
     "data": {
      "application/vnd.jupyter.widget-view+json": {
       "model_id": "36b7721c70244605954850e40b97f20b",
       "version_major": 2,
       "version_minor": 0
      },
      "text/plain": [
       "  0%|          | 0/100 [00:00<?, ?it/s]"
      ]
     },
     "metadata": {},
     "output_type": "display_data"
    },
    {
     "name": "stdout",
     "output_type": "stream",
     "text": [
      "epoch 0 loss 0.517\n",
      "epoch 1 loss 0.498\n",
      "epoch 2 loss 0.495\n",
      "epoch 3 loss 0.493\n",
      "epoch 4 loss 0.491\n",
      "epoch 5 loss 0.491\n",
      "epoch 6 loss 0.474\n",
      "epoch 7 loss 0.458\n",
      "epoch 8 loss 0.462\n",
      "epoch 9 loss 0.458\n",
      "epoch 10 loss 0.460\n",
      "epoch 11 loss 0.493\n",
      "epoch 12 loss 0.489\n",
      "epoch 13 loss 0.454\n",
      "epoch 14 loss 0.451\n",
      "epoch 15 loss 0.457\n",
      "epoch 16 loss 0.458\n",
      "epoch 17 loss 0.451\n",
      "epoch 18 loss 0.452\n",
      "epoch 19 loss 0.473\n",
      "epoch 20 loss 0.449\n",
      "epoch 21 loss 0.445\n",
      "epoch 22 loss 0.445\n",
      "epoch 23 loss 0.445\n",
      "epoch 24 loss 0.444\n",
      "epoch 25 loss 0.444\n",
      "epoch 26 loss 0.448\n",
      "epoch 27 loss 0.443\n",
      "epoch 28 loss 0.447\n",
      "epoch 29 loss 0.440\n",
      "epoch 30 loss 0.440\n",
      "epoch 31 loss 0.447\n",
      "epoch 32 loss 0.437\n",
      "epoch 33 loss 0.434\n",
      "epoch 34 loss 0.440\n",
      "epoch 35 loss 0.434\n",
      "epoch 36 loss 0.434\n",
      "epoch 37 loss 0.434\n",
      "epoch 38 loss 0.431\n",
      "epoch 39 loss 0.437\n",
      "epoch 40 loss 0.434\n",
      "epoch 41 loss 0.432\n",
      "epoch 42 loss 0.435\n",
      "epoch 43 loss 0.430\n",
      "epoch 44 loss 0.430\n",
      "epoch 45 loss 0.431\n",
      "epoch 46 loss 0.432\n",
      "epoch 47 loss 0.425\n",
      "epoch 48 loss 0.430\n",
      "epoch 49 loss 0.429\n",
      "epoch 50 loss 0.429\n",
      "epoch 51 loss 0.420\n",
      "epoch 52 loss 0.429\n",
      "epoch 53 loss 0.422\n",
      "epoch 54 loss 0.423\n",
      "epoch 55 loss 0.427\n",
      "epoch 56 loss 0.425\n",
      "epoch 57 loss 0.432\n",
      "epoch 58 loss 0.426\n",
      "epoch 59 loss 0.425\n",
      "epoch 60 loss 0.424\n",
      "epoch 61 loss 0.419\n",
      "epoch 62 loss 0.428\n",
      "epoch 63 loss 0.419\n",
      "epoch 64 loss 0.422\n",
      "epoch 65 loss 0.415\n",
      "epoch 66 loss 0.418\n",
      "epoch 67 loss 0.417\n",
      "epoch 68 loss 0.417\n",
      "epoch 69 loss 0.418\n",
      "epoch 70 loss 0.419\n",
      "epoch 71 loss 0.416\n",
      "epoch 72 loss 0.415\n",
      "epoch 73 loss 0.417\n",
      "epoch 74 loss 0.418\n",
      "epoch 75 loss 0.415\n",
      "epoch 76 loss 0.417\n",
      "epoch 77 loss 0.417\n",
      "epoch 78 loss 0.414\n",
      "epoch 79 loss 0.412\n",
      "epoch 80 loss 0.410\n",
      "epoch 81 loss 0.414\n",
      "epoch 82 loss 0.411\n",
      "epoch 83 loss 0.414\n",
      "epoch 84 loss 0.412\n",
      "epoch 85 loss 0.409\n",
      "epoch 86 loss 0.412\n",
      "epoch 87 loss 0.417\n",
      "epoch 88 loss 0.409\n",
      "epoch 89 loss 0.410\n",
      "epoch 90 loss 0.409\n",
      "epoch 91 loss 0.406\n",
      "epoch 92 loss 0.405\n",
      "epoch 93 loss 0.405\n",
      "epoch 94 loss 0.402\n",
      "epoch 95 loss 0.406\n",
      "epoch 96 loss 0.403\n",
      "epoch 97 loss 0.404\n",
      "epoch 98 loss 0.406\n",
      "epoch 99 loss 0.403\n"
     ]
    }
   ],
   "source": [
    "device = torch.device(\"cuda:0\" if torch.cuda.is_available() else \"cpu\")\n",
    "model = model.to(device)\n",
    "\n",
    "optimizer = torch.optim.Adam(model.parameters(), lr=3e-4)\n",
    "model.train()\n",
    "\n",
    "losslog = []\n",
    "for epoch in tqdm(range(100)):\n",
    "    losslog.append([])\n",
    "    for data, labels in loader:\n",
    "        data, labels = data.to(device), labels.to(device)\n",
    "        output, target = model(data, labels)\n",
    "        loss = torch.nn.functional.smooth_l1_loss(output, target)\n",
    "        optimizer.zero_grad()\n",
    "        loss.backward()\n",
    "        optimizer.step()\n",
    "        losslog[-1].append(loss)\n",
    "    print(f\"epoch {epoch} loss {torch.tensor(losslog[-1]).mean().item():.3f}\")"
   ]
  },
  {
   "cell_type": "code",
   "execution_count": 10,
   "metadata": {},
   "outputs": [
    {
     "data": {
      "text/plain": [
       "[<matplotlib.lines.Line2D at 0x2047cdfa090>]"
      ]
     },
     "execution_count": 10,
     "metadata": {},
     "output_type": "execute_result"
    },
    {
     "data": {
      "image/png": "[encoded data removed]",
      "text/plain": [
       "<Figure size 640x480 with 1 Axes>"
      ]
     },
     "metadata": {},
     "output_type": "display_data"
    }
   ],
   "source": [
    "import matplotlib.pyplot as plt\n",
    "plt.semilogy(torch.tensor(losslog).mean(dim=1).numpy())"
   ]
  }
 ],
 "metadata": {
  "kernelspec": {
   "display_name": "Python 3 (ipykernel)",
   "language": "python",
   "name": "python3"
  },
  "language_info": {
   "codemirror_mode": {
    "name": "ipython",
    "version": 3
   },
   "file_extension": ".py",
   "mimetype": "text/x-python",
   "name": "python",
   "nbconvert_exporter": "python",
   "pygments_lexer": "ipython3",
   "version": "3.11.5"
  }
 },
 "nbformat": 4,
 "nbformat_minor": 5
}
